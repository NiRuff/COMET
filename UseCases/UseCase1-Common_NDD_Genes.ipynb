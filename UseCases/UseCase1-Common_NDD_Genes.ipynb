{
 "cells": [
  {
   "cell_type": "markdown",
   "source": [
    "## Example 1: Neurodegeneration-Associated Genes in Humans\n",
    "\n",
    "We aggregated public data across AD, PD, ALS, and HD, identifying 139 overlapping genes. Using BioComet and the Leiden algorithm, we detected gene communities, leading to refined functional insights and highlighting potential inflammatory or metabolic pathways involved in neurodegeneration.\n",
    "\n",
    "This notebook aims to showcase BioComet's capability to navigate complex biological datasets, offering insights into disease mechanisms and potential therapeutic targets."
   ],
   "metadata": {
    "collapsed": false
   },
   "id": "c9f39012daf20d4b"
  },
  {
   "cell_type": "code",
   "outputs": [],
   "source": [
    "import biocomet as bc\n",
    "from biocomet import examples\n",
    "\n",
    "# load 139 common genes\n",
    "common_genes = examples.hs_ndd_genes\n",
    "\n",
    "common_genes"
   ],
   "metadata": {
    "collapsed": false
   },
   "id": "8ada41afd2ada91b",
   "execution_count": null
  },
  {
   "cell_type": "code",
   "outputs": [],
   "source": [
    "# build the PPI object with the default min score of 400 for a connection and the exclusion of solely text-based associations\n",
    "PPI = bc.PPIGraph(gene_list=common_genes, organism='human', min_score=400)\n",
    "\n",
    "# display the full PPI Graph\n",
    "PPI.plot_PPI(full_network=True)\n"
   ],
   "metadata": {
    "collapsed": false
   },
   "id": "41dfaea16544d3a6",
   "execution_count": null
  },
  {
   "cell_type": "markdown",
   "source": [
    "#### Whole network analysis"
   ],
   "metadata": {
    "collapsed": false
   },
   "id": "5c3222b1bb390b99"
  },
  {
   "cell_type": "code",
   "outputs": [],
   "source": [
    "# calculate the functional annotation\n",
    "PPI.get_functional_annotation(full_network=True, categories='pathways')\n",
    "\n",
    "# display the results with the network\n",
    "PPI.plot_Wordclouds_PPI(full_network=True, categories='pathways')\n",
    "\n",
    "# extract and display the results as a dataframe\n",
    "full_network_results = PPI.func_annotation_full_network\n",
    "full_network_results"
   ],
   "metadata": {
    "collapsed": false
   },
   "id": "9cc0a77c8f77abe4",
   "execution_count": null
  },
  {
   "cell_type": "markdown",
   "source": [
    "#### Community Detection and community analysis"
   ],
   "metadata": {
    "collapsed": false
   },
   "id": "16a39e5a15a20e44"
  },
  {
   "cell_type": "code",
   "outputs": [],
   "source": [
    "# identify communities using the leiden algorithm\n",
    "PPI.community_detection(algorithm='leiden', iterations=100)\n",
    "\n",
    "# both, the leiden and louvain algorithm are non-deterministic. This means, that when run multiple times, so exact results might vary.\n",
    "# therefore, we implemented the community detection in a way, so that it prints out the static seed for the best found partition in this trial\n",
    "# so to reproduce the results, the algorithm can be run with this particular seed\n",
    "\n",
    "# feel free to change the seed here, however, the following content is adapted to the seed 5944\n",
    "PPI.community_detection(algorithm='leiden', seed=5944)\n",
    "\n",
    "# calculate the functional annotation\n",
    "PPI.get_functional_annotation(full_network=False, categories='pathways')\n",
    "\n",
    "# display the results with the network\n",
    "PPI.plot_Wordclouds_PPI(full_network=False, categories='pathways')\n",
    "\n",
    "# extract and display the results as a dataframe\n",
    "community_results = PPI.func_annotation\n",
    "\n",
    "# in case you want to look at the functional enrichment tables:\n",
    "# community_results "
   ],
   "metadata": {
    "collapsed": false
   },
   "id": "21bb28622686ec67",
   "execution_count": null
  },
  {
   "cell_type": "code",
   "outputs": [],
   "source": [
    "# based on the results with seed 5944, we can label the community e.g. like that:\n",
    "\n",
    "community_labels = {\n",
    "    0: \"Hematopoiesis & Cell Adhesion\",              #Combines the themes of hematopoietic lineage development and cell adhesion processes.\n",
    "    1: \"Immune Response & Signaling\",                #Captures the broad theme of immune response mechanisms, including TLR signaling and NF-kappa B pathways.\n",
    "    2: \"Cell Cycle & Mitotic Regulation\",            #Reflects the focus on cell cycle processes, mitotic events, and related regulatory mechanisms.\n",
    "    3: \"Extracellular Matrix & Collagen Synthesis\",  #Highlights the emphasis on extracellular matrix organization and collagen-related processes.\n",
    "    5: \"mRNA Stability & Stress Response\",           #Represents the processes related to mRNA stability and cellular responses to stress, including WNT signaling repression.\n",
    "    6: \"rRNA Processing & Protein Targeting\",        #Encompasses themes of ribosomal RNA processing and mechanisms of protein targeting, reflecting a focus on fundamental cellular processes.\n",
    "}\n",
    "\n"
   ],
   "metadata": {
    "collapsed": false
   },
   "id": "a11e208cdc750ac4",
   "execution_count": null
  },
  {
   "cell_type": "markdown",
   "source": [
    "Now we can inspect those genes contributing to the Disease pathway in of the Reactome database and see which communities those genes contribute to "
   ],
   "metadata": {
    "collapsed": false
   },
   "id": "320e0e1c9427f8d2"
  },
  {
   "cell_type": "code",
   "outputs": [],
   "source": [
    "# we can derive the table from the funcitional enrichment results on the whole graph \n",
    "full_network_results_df = full_network_results['Full Network']\n",
    "\n",
    "# from here, we can check, which genes actually contributed to the most significant pathway found: the reactome pathway 'Disease'\n",
    "disease_genes = full_network_results_df[(full_network_results_df['description'] == 'Disease') & (full_network_results_df['category'] == 'RCTM')]['preferredNames']\n",
    "disease_genes"
   ],
   "metadata": {
    "collapsed": false
   },
   "id": "f06aac21fa34e73f",
   "execution_count": null
  },
  {
   "cell_type": "markdown",
   "source": [
    "As the Term 'Disease' is quite unspecific, let's try to trace, if we find those genes contributing to this term as being spread out in different communities that are more descriptive of their underlying functinoal association "
   ],
   "metadata": {
    "collapsed": false
   },
   "id": "328effd733e001c3"
  },
  {
   "cell_type": "code",
   "outputs": [],
   "source": [
    "import networkx as nx\n",
    "import numpy as np\n",
    "import matplotlib.pyplot as plt\n",
    "import matplotlib.patches as mpatches\n",
    "\n",
    "G = PPI.network.copy()\n",
    "\n",
    "# Initial layout - spring layout for individual community clustering\n",
    "pos = nx.spring_layout(G, seed=42)\n",
    "\n",
    "# Step 1: Identify and remove nodes from community -1\n",
    "nodes_to_remove = [node for node in G.nodes if G.nodes[node]['community'] == -1]\n",
    "G.remove_nodes_from(nodes_to_remove)\n",
    "\n",
    "# Calculate the centroid for each community\n",
    "community_centroids = {}\n",
    "for community in set(nx.get_node_attributes(G, 'community').values()):\n",
    "    nodes_in_community = [node for node in G.nodes if G.nodes[node]['community'] == community]\n",
    "    if nodes_in_community:  # Check if the community is not empty\n",
    "        x_coords = [pos[node][0] for node in nodes_in_community]\n",
    "        y_coords = [pos[node][1] for node in nodes_in_community]\n",
    "        centroid = (np.mean(x_coords), np.mean(y_coords))\n",
    "        community_centroids[community] = centroid\n",
    "\n",
    "# Adjust node positions to enhance community clustering\n",
    "# Define the scale for inter-community and intra-community adjustment\n",
    "inter_community_scale = 10\n",
    "intra_community_scale = 0.15\n",
    "\n",
    "adjusted_pos = {}\n",
    "for node in G.nodes:\n",
    "    community = G.nodes[node]['community']\n",
    "    original_pos = pos[node]\n",
    "    centroid = community_centroids.get(community, (0, 0))  # Fallback to (0,0) if not found\n",
    "    # Calculate adjusted position\n",
    "    adjusted_x = centroid[0] + intra_community_scale * (original_pos[0] - centroid[0])\n",
    "    adjusted_y = centroid[1] + intra_community_scale * (original_pos[1] - centroid[1])\n",
    "    adjusted_pos[node] = (adjusted_x * inter_community_scale, adjusted_y * inter_community_scale)\n",
    "\n",
    "\n",
    "# Extract weights\n",
    "weights = [G[u][v]['weight'] for u,v in G.edges()]\n",
    "# Normalize weights (optional, depending on your data)\n",
    "max_weight = max(weights)\n",
    "min_weight = min(weights)\n",
    "normalized_weights = [(weight - min_weight) / (max_weight - min_weight) for weight in weights]\n",
    "\n",
    "# Calculate the figure center by averaging all adjusted node positions\n",
    "all_x, all_y = zip(*adjusted_pos.values())\n",
    "center_x, center_y = np.mean(all_x), np.mean(all_y)\n",
    "\n",
    "# Visualization\n",
    "plt.figure(figsize=(12, 8))\n",
    "# Draw nodes, remembering the color coding for disease state\n",
    "disease_colors = [G.nodes[n]['Disease'] for n in G.nodes]  # 0 or 1 indicating disease state\n",
    "color_map = {0: 'blue', 1: 'red'}  # Mapping of disease state to color\n",
    "nx.draw_networkx_nodes(G, adjusted_pos, node_color=[color_map[disease] for disease in disease_colors], node_size=50, alpha=0.8)\n",
    "\n",
    "# Draw edges with width and alpha based on weight\n",
    "for (u, v), lw, alpha in zip(G.edges(), normalized_weights, normalized_weights):\n",
    "    nx.draw_networkx_edges(G, adjusted_pos, edgelist=[(u, v)], width=lw*3, alpha=alpha)  # Adjust multiplier and alpha offset as needed\n",
    "\n",
    "# Adjusting label positions\n",
    "for community, centroid in community_centroids.items():\n",
    "    adjusted_centroid = (centroid[0] * inter_community_scale, centroid[1] * inter_community_scale)\n",
    "    \n",
    "    # Calculate the difference from the center\n",
    "    diff_x = adjusted_centroid[0] - center_x\n",
    "    diff_y = adjusted_centroid[1] - center_y\n",
    "    \n",
    "    # Calculate new label positions at 1.2 times the difference from the center\n",
    "    label_x = center_x + 1.25 * diff_x\n",
    "    label_y = center_y + 1.25 * diff_y\n",
    "    \n",
    "    plt.text(label_x, label_y, f'Community {community}:\\n{community_labels[community]}', \n",
    "             horizontalalignment='center', verticalalignment='center', \n",
    "             fontsize=12, fontweight='bold',\n",
    "             bbox=dict(facecolor='white', alpha=0.4, edgecolor='grey', boxstyle='round,pad=0.5'))\n",
    "\n",
    "# Adding a legend for the disease state\n",
    "red_patch = mpatches.Patch(color='red', label='Yes')\n",
    "blue_patch = mpatches.Patch(color='blue', label='No')\n",
    "plt.legend(handles=[red_patch, blue_patch], title=\"Member of Reactome\\n\"\n",
    "                                                  \" Pathway Disease\", title_fontsize='13', loc='upper right', fontsize='12')\n",
    "\n",
    "# Add a title to the plot\n",
    "plt.suptitle(\"Network Visualization by Community and Reactome Pathway 'Disease' Membership\", fontsize=16, fontweight='bold')\n",
    "\n",
    "\n",
    "plt.axis('off')\n",
    "plt.show()"
   ],
   "metadata": {
    "collapsed": false
   },
   "id": "4028ceeb109aec0e",
   "execution_count": null
  },
  {
   "cell_type": "markdown",
   "source": [
    "What we can see here, is that all of our more detaileld communities, somehow contribute to the significance of the general term 'Disease' when analyzing the gene list as one large input. This actually represents a prime example of how results that are related to a variety of underlying processes, can to a large extent contribute to unspecific top-level terms. While e.g. the genes found in community 2 do mainly contribute to terms related to Cell Cycle and mitotic regulation, they also partially contribute to the significance of the term 'Disease'. As the is true also for the other communities we find here, this more unspecific term gains more significance the more diverse biological processes are actually part of the results. This is why our community detection helped here to put more emphasize on the individual results hidden within this complex list of genes!"
   ],
   "metadata": {
    "collapsed": false
   },
   "id": "86bbd404f32ab5e1"
  },
  {
   "cell_type": "code",
   "outputs": [],
   "source": [],
   "metadata": {
    "collapsed": false
   },
   "id": "d3cb2df229ba2563",
   "execution_count": null
  },
  {
   "cell_type": "code",
   "outputs": [],
   "source": [],
   "metadata": {
    "collapsed": false
   },
   "id": "79192e62ee7134c2",
   "execution_count": null
  },
  {
   "cell_type": "code",
   "outputs": [],
   "source": [],
   "metadata": {
    "collapsed": false
   },
   "id": "6ac7a527022a3d01",
   "execution_count": null
  },
  {
   "cell_type": "code",
   "outputs": [],
   "source": [
    "\n"
   ],
   "metadata": {
    "collapsed": false
   },
   "id": "3aa9a18cb9de622b",
   "execution_count": null
  },
  {
   "cell_type": "code",
   "outputs": [],
   "source": [
    "\n"
   ],
   "metadata": {
    "collapsed": false
   },
   "id": "2b453f99d44ba502",
   "execution_count": null
  },
  {
   "cell_type": "code",
   "outputs": [],
   "source": [],
   "metadata": {
    "collapsed": false
   },
   "id": "5aaed9963b890a99"
  }
 ],
 "metadata": {
  "kernelspec": {
   "display_name": "Python 3",
   "language": "python",
   "name": "python3"
  },
  "language_info": {
   "codemirror_mode": {
    "name": "ipython",
    "version": 2
   },
   "file_extension": ".py",
   "mimetype": "text/x-python",
   "name": "python",
   "nbconvert_exporter": "python",
   "pygments_lexer": "ipython2",
   "version": "2.7.6"
  }
 },
 "nbformat": 4,
 "nbformat_minor": 5
}
