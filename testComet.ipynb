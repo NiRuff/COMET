{
 "cells": [
  {
   "cell_type": "markdown",
   "source": [
    "# BioComet: Comprehensive Analysis for Biological Networks\n",
    "\n",
    "\n",
    "## Introduction\n",
    "Welcome to the BioComet tutorial notebook. BioComet is a Python package designed to facilitate the analysis of biological networks, focusing on protein-protein interactions (PPI), regulatory networks, and functional enrichment analysis. This notebook will guide you through the process of analyzing example gene and regulation data from mice, building a graph object, performing community detection, and conducting functional enrichment analysis with data from STRING database for mouse organisms.\n"
   ],
   "metadata": {
    "collapsed": false
   },
   "id": "efbb8e2e418b3fda"
  },
  {
   "cell_type": "markdown",
   "source": [
    "## Installation\n",
    "\n",
    "Before we start, ensure that BioComet is installed in your environment. If not, you can install it using pip:\n",
    "``````\n",
    "pip install biocomet\n",
    "``````\n",
    "\n",
    "## Importing BioComet and Example Data\n",
    "\n",
    "Let's begin by importing the BioComet package and loading the example data provided for mouse genes and their regulation."
   ],
   "metadata": {
    "collapsed": false
   },
   "id": "fa84f1458f91876c"
  },
  {
   "cell_type": "code",
   "outputs": [],
   "source": [],
   "metadata": {
    "collapsed": false
   },
   "id": "1c6153830da4bbdc",
   "execution_count": null
  },
  {
   "cell_type": "code",
   "outputs": [],
   "source": [
    "\n",
    "import biocomet as bc\n",
    "from biocomet import examples\n",
    "\n",
    "genes = examples.mm_1_genes\n",
    "reg = examples.mm_1_reg\n",
    "\n",
    "examples.hs_1_genes\n"
   ],
   "metadata": {
    "collapsed": false
   },
   "id": "f0ae5275cedd320",
   "execution_count": null
  },
  {
   "cell_type": "markdown",
   "source": [
    "\n",
    "## Building the Graph Object\n",
    "\n",
    "With the example data loaded, we will now build a graph object representing the PPI network, ensuring that text mining associations are excluded and setting a minimum score threshold from the STRING database.\n",
    "\n"
   ],
   "metadata": {
    "collapsed": false
   },
   "id": "2645773741812a79"
  },
  {
   "cell_type": "code",
   "outputs": [],
   "source": [
    "\n",
    "G = bc.PPIGraph(genes, reg_list=reg, organism='mouse', min_score=400, no_text=True, physical=False, p_adj_cutoff=0.05)\n",
    "\n",
    "#print(G.network.edges(data=True))\n"
   ],
   "metadata": {
    "collapsed": false
   },
   "id": "bd88bfcd45cead0c",
   "execution_count": null
  },
  {
   "cell_type": "markdown",
   "source": [
    "## Community Detection\n",
    "\n",
    "To uncover the modular structure within our network, we'll apply community detection algorithms. BioComet supports both Leiden and Louvain algorithms. We will choose Leiden for its refinement capabilities in detecting communities.\n"
   ],
   "metadata": {
    "collapsed": false
   },
   "id": "be20bcbbf7129a76"
  },
  {
   "cell_type": "code",
   "outputs": [],
   "source": [
    "G.community_detection(iterations=100, algorithm='leiden')"
   ],
   "metadata": {
    "collapsed": false
   },
   "id": "f409bf3626336e40",
   "execution_count": null
  },
  {
   "cell_type": "markdown",
   "source": [
    "\n",
    "## Functional Enrichment Analysis\n",
    "\n",
    "After identifying communities within the network, the next step is to understand their biological significance. We will perform functional enrichment analysis to annotate these communities based on various biological databases.\n"
   ],
   "metadata": {
    "collapsed": false
   },
   "id": "d27e0f64e58f8ea5"
  },
  {
   "cell_type": "code",
   "outputs": [],
   "source": [
    "G.get_functional_annotation(categories='default')"
   ],
   "metadata": {
    "collapsed": false
   },
   "id": "35d494e149d22db4",
   "execution_count": null
  },
  {
   "cell_type": "markdown",
   "source": [
    "## Visualization\n",
    "\n",
    "BioComet provides several visualization tools to explore the networks and their functional annotations. We'll demonstrate how to create plots for the entire network, regulatory networks, individual communities, and functional annotations as word clouds.\n",
    "\n",
    "### Whole Network Plots"
   ],
   "metadata": {
    "collapsed": false
   },
   "id": "82dc511142b645b7"
  },
  {
   "cell_type": "code",
   "outputs": [],
   "source": [
    "# STRING PPI Network\n",
    "G.plot_PPI(full_network=True, show=True, background='transparent')\n",
    "\n",
    "# Regulatory Networks\n",
    "G.plot_reg_networks(full_network=True, show=True, background='transparent')"
   ],
   "metadata": {
    "collapsed": false
   },
   "id": "597369812c2f7c4",
   "execution_count": null
  },
  {
   "cell_type": "markdown",
   "source": [
    "### Community Visualizations"
   ],
   "metadata": {
    "collapsed": false
   },
   "id": "b94e9213f73626ac"
  },
  {
   "cell_type": "code",
   "outputs": [],
   "source": [
    "# Arc Plot Visualization\n",
    "G.plot_arc(show=True, background='transparent')\n",
    "\n",
    "# Circos Plot Visualization\n",
    "G.plot_circos(show=True, background='transparent')\n",
    "\n",
    "# Regulatory Networks for Individual Communities\n",
    "G.plot_reg_networks(show=True, community='all', background='transparent')\n",
    "\n",
    "# Wordclouds for Functional Annotations\n",
    "G.plot_Wordclouds_PPI(categories='default', show=True, background='transparent')"
   ],
   "metadata": {
    "collapsed": false
   },
   "id": "7a6d857d716650d5",
   "execution_count": null
  },
  {
   "cell_type": "markdown",
   "source": [
    "### KEGG Pathway Visualizations\n",
    "\n",
    "To better make sense of the KEGG pathways found in the functional enrichment analysis, biocomet has added funcitonality to color the nodes in the pathway based on their regulation in the underlying data. "
   ],
   "metadata": {
    "collapsed": false
   },
   "id": "4e1f07b880a8f114"
  },
  {
   "cell_type": "code",
   "outputs": [],
   "source": [
    "# Visualizing KEGG Pathways with Regulation Color Coding\n",
    "G.plot_KEGG(pathway='all', community=1, show=True, transparency=.5, background='transparent')\n"
   ],
   "metadata": {
    "collapsed": false
   },
   "id": "a8f0027d89713b61",
   "execution_count": null
  },
  {
   "cell_type": "code",
   "outputs": [],
   "source": [
    "# checking more specifically a given set of genes and regulation for specific KEGG pathway coloring\n",
    "\n",
    "from biocomet import examples\n",
    "\n",
    "genesAD = examples.hs_ad_circ_genes\n",
    "regAD = examples.hs_ad_circ_reg\n",
    "\n",
    "gene_reg_dictAD = dict(zip(genesAD, regAD))\n",
    "\n",
    "from biocomet.visualization import visualize_KEGG\n",
    "visualize_KEGG('hsa04710', gene_reg_dictAD, 'human')\n",
    "visualize_KEGG('hsa04713', gene_reg_dictAD, 'human')\n",
    "\n"
   ],
   "metadata": {
    "collapsed": false
   },
   "id": "bf823031e1d9c179",
   "execution_count": null
  },
  {
   "cell_type": "code",
   "outputs": [],
   "source": [
    "# checking more specifically a given set of genes and regulation for specific KEGG pathway coloring\n",
    "\n",
    "from biocomet import examples\n",
    "\n",
    "genesPD = examples.hs_pd_circ_genes\n",
    "regPD = examples.hs_pd_circ_reg\n",
    "\n",
    "gene_reg_dictPD = dict(zip(genesPD, regPD))\n",
    "\n",
    "from biocomet.visualization import visualize_KEGG\n",
    "visualize_KEGG('hsa04710', gene_reg_dictPD, 'human')\n",
    "visualize_KEGG('hsa04713', gene_reg_dictPD, 'human')\n",
    "\n"
   ],
   "metadata": {
    "collapsed": false
   },
   "id": "e3f45b9267c679a8",
   "execution_count": null
  },
  {
   "cell_type": "code",
   "outputs": [],
   "source": [
    "# checking more specifically a given set of genes and regulation for specific KEGG pathway coloring\n",
    "\n",
    "from biocomet import examples\n",
    "\n",
    "genesHD = examples.hs_hd_circ_genes\n",
    "regHD = examples.hs_hd_circ_reg\n",
    "\n",
    "gene_reg_dictHD = dict(zip(genesHD, regHD))\n",
    "\n",
    "from biocomet.visualization import visualize_KEGG\n",
    "visualize_KEGG('hsa04710', gene_reg_dictHD, 'human')\n",
    "visualize_KEGG('hsa04713', gene_reg_dictHD, 'human')\n",
    "\n"
   ],
   "metadata": {
    "collapsed": false
   },
   "id": "fe1496db7ebeede0",
   "execution_count": null
  },
  {
   "cell_type": "code",
   "outputs": [],
   "source": [
    "# checking more specifically a given set of genes and regulation for specific KEGG pathway coloring\n",
    "\n",
    "from biocomet import examples\n",
    "\n",
    "genesALS = examples.hs_als_circ_genes\n",
    "regALS = examples.hs_als_circ_reg\n",
    "\n",
    "gene_reg_dictALS = dict(zip(genesALS, regALS))\n",
    "\n",
    "from biocomet.visualization import visualize_KEGG\n",
    "visualize_KEGG('hsa04710', gene_reg_dictALS, 'human')\n",
    "visualize_KEGG('hsa04713', gene_reg_dictALS, 'human')\n",
    "\n"
   ],
   "metadata": {
    "collapsed": false
   },
   "id": "f5e9d62e12427d20",
   "execution_count": null
  },
  {
   "cell_type": "markdown",
   "source": [
    "# Conclusion\n",
    "\n",
    "This tutorial provided an overview of BioComet's capabilities in analyzing biological networks, from constructing PPI and regulatory networks to performing community detection and functional enrichment analysis. By leveraging these tools, researchers can gain valuable insights into the complex interactions and functions within biological systems.\n",
    "\n",
    "For more detailed documentation and advanced features, please visit [BioComet Documentation](#).\n"
   ],
   "metadata": {
    "collapsed": false
   },
   "id": "95114846e2017492"
  },
  {
   "cell_type": "code",
   "outputs": [],
   "source": [],
   "metadata": {
    "collapsed": false
   },
   "id": "596531f48835006e",
   "execution_count": null
  },
  {
   "cell_type": "code",
   "outputs": [],
   "source": [],
   "metadata": {
    "collapsed": false
   },
   "id": "8a758c029c15ac08",
   "execution_count": null
  },
  {
   "cell_type": "code",
   "outputs": [],
   "source": [],
   "metadata": {
    "collapsed": false
   },
   "id": "7d38bf8d49a3cd6e",
   "execution_count": null
  },
  {
   "cell_type": "code",
   "outputs": [],
   "source": [
    "# testing of physical, text_only, etc also with respect to legend\n",
    "# test long list (mm_1_genes_full) --> add autoload option (default False) but tell in error to run bc.PPIGraph with autoload=True to automatically load local_data.\n",
    "# also include check for local data within package - in case autolaod was conducted in the past. when loading from there, inform with text\n",
    "\n",
    "# pack for pypi\n",
    "\n",
    "# minCommSize: set to 3 and code properly - should be integrated in all plotting functions or otherwise in the funcAnnotation method\n",
    "# consider including my scRNA seq plots - maybe annoying to do still in march"
   ],
   "metadata": {},
   "id": "6e2a855f-689e-4ba6-9077-f8295b90ffa4",
   "execution_count": null
  },
  {
   "cell_type": "code",
   "execution_count": null,
   "id": "907e0aac",
   "metadata": {},
   "outputs": [],
   "source": [
    "import biocomet as bc\n",
    "from biocomet import examples\n",
    "\n",
    "genes = examples.mm_1_genes\n",
    "reg = examples.mm_1_reg\n",
    "\n",
    "\n",
    "G = bc.PPIGraph(genes, reg_list=reg, organism='mouse', auto_load=True)\n",
    "# Arc Plot Visualization\n",
    "#G.plot_arc(show=True, background='transparent')\n",
    "\n",
    "G.plot_reg_networks(full_network=True, show=True, background='transparent', centrality_measure='w_eigenvector')\n",
    "G.plot_reg_networks(full_network=False, show=True, background='transparent', centrality_measure='w_closeness')\n",
    "# G.plot_Wordclouds_PPI(full_network=False)\n",
    "# G.plot_Wordclouds(full_network=False)\n",
    "\n",
    "\n"
   ]
  },
  {
   "cell_type": "code",
   "outputs": [],
   "source": [
    "G.write_centrality_to_csv(full_network=True)"
   ],
   "metadata": {
    "collapsed": false
   },
   "id": "754028fa22b4577",
   "execution_count": null
  },
  {
   "cell_type": "code",
   "execution_count": null,
   "id": "2f7a8f39-d224-437d-a180-3e07f60467bd",
   "metadata": {},
   "outputs": [],
   "source": [
    "G.plot_arc()"
   ]
  },
  {
   "cell_type": "code",
   "execution_count": null,
   "id": "0f20553a-2497-41b9-81c0-e73d46b3807a",
   "metadata": {},
   "outputs": [],
   "source": [
    "G.plot_circos()"
   ]
  },
  {
   "cell_type": "code",
   "execution_count": null,
   "id": "8ae012aa-0abe-4bbb-b0b9-7bb40b9ee972",
   "metadata": {
    "scrolled": true
   },
   "outputs": [],
   "source": [
    "\n",
    "G.plot_reg_networks(full_network=True, show=True)\n"
   ]
  },
  {
   "cell_type": "code",
   "execution_count": null,
   "id": "7c925c55-d2b4-4dc7-977d-8522cae85ed2",
   "metadata": {
    "scrolled": true
   },
   "outputs": [],
   "source": [
    "G.plot_KEGG(show=True)"
   ]
  },
  {
   "cell_type": "code",
   "execution_count": null,
   "id": "440d0a2a-4402-4c90-aec8-622cbf1f070d",
   "metadata": {},
   "outputs": [],
   "source": [
    "G.community_detection(algorithm='louvain')\n",
    "\n",
    "G.get_functional_annotation(categories='default')\n",
    "#G.get_functional_annotation(categories='all')\n"
   ]
  },
  {
   "cell_type": "code",
   "execution_count": null,
   "id": "5bdd95f8-a7eb-4d1d-a3ab-01566c88ec56",
   "metadata": {},
   "outputs": [],
   "source": [
    "G.func_annotation"
   ]
  },
  {
   "cell_type": "code",
   "execution_count": null,
   "id": "91b70c54-ab35-48d4-a136-362a22213df7",
   "metadata": {},
   "outputs": [],
   "source": []
  },
  {
   "cell_type": "code",
   "execution_count": null,
   "id": "c72e7a7f-ab53-4640-9dc7-171c0b6467bb",
   "metadata": {},
   "outputs": [],
   "source": []
  },
  {
   "cell_type": "code",
   "execution_count": null,
   "id": "b68749c8-b13d-40de-aa82-f479f1ed04d8",
   "metadata": {},
   "outputs": [],
   "source": [
    "G.reg_list"
   ]
  },
  {
   "cell_type": "code",
   "execution_count": null,
   "id": "5fad965d-2094-4f49-8773-c674d0848f00",
   "metadata": {},
   "outputs": [],
   "source": []
  },
  {
   "cell_type": "code",
   "execution_count": null,
   "id": "42c90482-b3a6-4d8d-8478-1aa02d582c73",
   "metadata": {},
   "outputs": [],
   "source": []
  }
 ],
 "metadata": {
  "kernelspec": {
   "display_name": "Python 3 (ipykernel)",
   "language": "python",
   "name": "python3"
  },
  "language_info": {
   "codemirror_mode": {
    "name": "ipython",
    "version": 3
   },
   "file_extension": ".py",
   "mimetype": "text/x-python",
   "name": "python",
   "nbconvert_exporter": "python",
   "pygments_lexer": "ipython3",
   "version": "3.10.13"
  }
 },
 "nbformat": 4,
 "nbformat_minor": 5
}
